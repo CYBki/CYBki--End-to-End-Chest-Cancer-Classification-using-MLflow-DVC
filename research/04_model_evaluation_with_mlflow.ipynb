{
 "cells": [
  {
   "cell_type": "code",
   "execution_count": 1,
   "id": "6b4d5365",
   "metadata": {},
   "outputs": [],
   "source": [
    "import os"
   ]
  },
  {
   "cell_type": "code",
   "execution_count": 2,
   "id": "9a0330e7",
   "metadata": {},
   "outputs": [
    {
     "data": {
      "text/plain": [
       "'/home/syorgun/CYBki--End-to-End-Chest-Cancer-Classification-using-MLflow-DVC/research'"
      ]
     },
     "execution_count": 2,
     "metadata": {},
     "output_type": "execute_result"
    }
   ],
   "source": [
    "%pwd"
   ]
  },
  {
   "cell_type": "code",
   "execution_count": 3,
   "id": "4ac2c0e4",
   "metadata": {},
   "outputs": [],
   "source": [
    "os.chdir(\"../\")"
   ]
  },
  {
   "cell_type": "code",
   "execution_count": 4,
   "id": "01c423ae",
   "metadata": {},
   "outputs": [
    {
     "data": {
      "text/plain": [
       "'/home/syorgun/CYBki--End-to-End-Chest-Cancer-Classification-using-MLflow-DVC'"
      ]
     },
     "execution_count": 4,
     "metadata": {},
     "output_type": "execute_result"
    }
   ],
   "source": [
    "%pwd"
   ]
  },
  {
   "cell_type": "code",
   "execution_count": 5,
   "id": "11f1ec2f",
   "metadata": {},
   "outputs": [
    {
     "name": "stdout",
     "output_type": "stream",
     "text": [
      "Requirement already satisfied: dagshub in /home/syorgun/anaconda3/envs/cancer/lib/python3.8/site-packages (0.5.10)\n",
      "Requirement already satisfied: PyYAML>=5 in /home/syorgun/anaconda3/envs/cancer/lib/python3.8/site-packages (from dagshub) (6.0.3)\n",
      "Requirement already satisfied: appdirs>=1.4.4 in /home/syorgun/anaconda3/envs/cancer/lib/python3.8/site-packages (from dagshub) (1.4.4)\n",
      "Requirement already satisfied: click>=8.0.4 in /home/syorgun/anaconda3/envs/cancer/lib/python3.8/site-packages (from dagshub) (8.1.8)\n",
      "Requirement already satisfied: httpx>=0.23.0 in /home/syorgun/anaconda3/envs/cancer/lib/python3.8/site-packages (from dagshub) (0.28.1)\n",
      "Requirement already satisfied: GitPython>=3.1.29 in /home/syorgun/anaconda3/envs/cancer/lib/python3.8/site-packages (from dagshub) (3.1.45)\n",
      "Requirement already satisfied: rich>=13.1.0 in /home/syorgun/anaconda3/envs/cancer/lib/python3.8/site-packages (from dagshub) (14.2.0)\n",
      "Requirement already satisfied: dacite~=1.6.0 in /home/syorgun/anaconda3/envs/cancer/lib/python3.8/site-packages (from dagshub) (1.6.0)\n",
      "Requirement already satisfied: tenacity>=8.2.2 in /home/syorgun/anaconda3/envs/cancer/lib/python3.8/site-packages (from dagshub) (9.0.0)\n",
      "Requirement already satisfied: gql[requests] in /home/syorgun/anaconda3/envs/cancer/lib/python3.8/site-packages (from dagshub) (4.0.0)\n",
      "Requirement already satisfied: dataclasses-json in /home/syorgun/anaconda3/envs/cancer/lib/python3.8/site-packages (from dagshub) (0.6.7)\n",
      "Requirement already satisfied: pandas in /home/syorgun/anaconda3/envs/cancer/lib/python3.8/site-packages (from dagshub) (2.0.3)\n",
      "Requirement already satisfied: treelib>=1.6.4 in /home/syorgun/anaconda3/envs/cancer/lib/python3.8/site-packages (from dagshub) (1.8.0)\n",
      "Requirement already satisfied: pathvalidate>=3.0.0 in /home/syorgun/anaconda3/envs/cancer/lib/python3.8/site-packages (from dagshub) (3.2.1)\n",
      "Requirement already satisfied: python-dateutil in /home/syorgun/anaconda3/envs/cancer/lib/python3.8/site-packages (from dagshub) (2.9.0.post0)\n",
      "Requirement already satisfied: boto3 in /home/syorgun/anaconda3/envs/cancer/lib/python3.8/site-packages (from dagshub) (1.37.38)\n",
      "Requirement already satisfied: semver in /home/syorgun/anaconda3/envs/cancer/lib/python3.8/site-packages (from dagshub) (3.0.4)\n",
      "Requirement already satisfied: dagshub-annotation-converter>=0.1.5 in /home/syorgun/anaconda3/envs/cancer/lib/python3.8/site-packages (from dagshub) (0.1.15)\n",
      "Requirement already satisfied: lxml in /home/syorgun/anaconda3/envs/cancer/lib/python3.8/site-packages (from dagshub-annotation-converter>=0.1.5->dagshub) (6.0.2)\n",
      "Requirement already satisfied: pillow in /home/syorgun/anaconda3/envs/cancer/lib/python3.8/site-packages (from dagshub-annotation-converter>=0.1.5->dagshub) (10.4.0)\n",
      "Requirement already satisfied: pydantic>=2.0.0 in /home/syorgun/anaconda3/envs/cancer/lib/python3.8/site-packages (from dagshub-annotation-converter>=0.1.5->dagshub) (2.10.6)\n",
      "Requirement already satisfied: typing-extensions in /home/syorgun/anaconda3/envs/cancer/lib/python3.8/site-packages (from dagshub-annotation-converter>=0.1.5->dagshub) (4.13.2)\n",
      "Requirement already satisfied: gitdb<5,>=4.0.1 in /home/syorgun/anaconda3/envs/cancer/lib/python3.8/site-packages (from GitPython>=3.1.29->dagshub) (4.0.12)\n",
      "Requirement already satisfied: anyio in /home/syorgun/anaconda3/envs/cancer/lib/python3.8/site-packages (from httpx>=0.23.0->dagshub) (4.5.2)\n",
      "Requirement already satisfied: certifi in /home/syorgun/anaconda3/envs/cancer/lib/python3.8/site-packages (from httpx>=0.23.0->dagshub) (2025.10.5)\n",
      "Requirement already satisfied: httpcore==1.* in /home/syorgun/anaconda3/envs/cancer/lib/python3.8/site-packages (from httpx>=0.23.0->dagshub) (1.0.9)\n",
      "Requirement already satisfied: idna in /home/syorgun/anaconda3/envs/cancer/lib/python3.8/site-packages (from httpx>=0.23.0->dagshub) (3.11)\n",
      "Requirement already satisfied: h11>=0.16 in /home/syorgun/anaconda3/envs/cancer/lib/python3.8/site-packages (from httpcore==1.*->httpx>=0.23.0->dagshub) (0.16.0)\n",
      "Requirement already satisfied: markdown-it-py>=2.2.0 in /home/syorgun/anaconda3/envs/cancer/lib/python3.8/site-packages (from rich>=13.1.0->dagshub) (3.0.0)\n",
      "Requirement already satisfied: pygments<3.0.0,>=2.13.0 in /home/syorgun/anaconda3/envs/cancer/lib/python3.8/site-packages (from rich>=13.1.0->dagshub) (2.19.2)\n",
      "Requirement already satisfied: six>=1.13.0 in /home/syorgun/anaconda3/envs/cancer/lib/python3.8/site-packages (from treelib>=1.6.4->dagshub) (1.17.0)\n",
      "Requirement already satisfied: botocore<1.38.0,>=1.37.38 in /home/syorgun/anaconda3/envs/cancer/lib/python3.8/site-packages (from boto3->dagshub) (1.37.38)\n",
      "Requirement already satisfied: jmespath<2.0.0,>=0.7.1 in /home/syorgun/anaconda3/envs/cancer/lib/python3.8/site-packages (from boto3->dagshub) (1.0.1)\n",
      "Requirement already satisfied: s3transfer<0.12.0,>=0.11.0 in /home/syorgun/anaconda3/envs/cancer/lib/python3.8/site-packages (from boto3->dagshub) (0.11.5)\n",
      "Requirement already satisfied: marshmallow<4.0.0,>=3.18.0 in /home/syorgun/anaconda3/envs/cancer/lib/python3.8/site-packages (from dataclasses-json->dagshub) (3.22.0)\n",
      "Requirement already satisfied: typing-inspect<1,>=0.4.0 in /home/syorgun/anaconda3/envs/cancer/lib/python3.8/site-packages (from dataclasses-json->dagshub) (0.9.0)\n",
      "Requirement already satisfied: graphql-core<3.3,>=3.2 in /home/syorgun/anaconda3/envs/cancer/lib/python3.8/site-packages (from gql[requests]->dagshub) (3.2.6)\n",
      "Requirement already satisfied: yarl<2.0,>=1.6 in /home/syorgun/anaconda3/envs/cancer/lib/python3.8/site-packages (from gql[requests]->dagshub) (1.15.2)\n",
      "Requirement already satisfied: backoff<3.0,>=1.11.1 in /home/syorgun/anaconda3/envs/cancer/lib/python3.8/site-packages (from gql[requests]->dagshub) (2.2.1)\n",
      "Requirement already satisfied: requests<3,>=2.26 in /home/syorgun/anaconda3/envs/cancer/lib/python3.8/site-packages (from gql[requests]->dagshub) (2.32.4)\n",
      "Requirement already satisfied: requests_toolbelt<2,>=1.0.0 in /home/syorgun/anaconda3/envs/cancer/lib/python3.8/site-packages (from gql[requests]->dagshub) (1.0.0)\n",
      "Requirement already satisfied: pytz>=2020.1 in /home/syorgun/anaconda3/envs/cancer/lib/python3.8/site-packages (from pandas->dagshub) (2022.7.1)\n",
      "Requirement already satisfied: tzdata>=2022.1 in /home/syorgun/anaconda3/envs/cancer/lib/python3.8/site-packages (from pandas->dagshub) (2025.2)\n",
      "Requirement already satisfied: numpy>=1.20.3 in /home/syorgun/anaconda3/envs/cancer/lib/python3.8/site-packages (from pandas->dagshub) (1.23.5)\n",
      "Requirement already satisfied: sniffio>=1.1 in /home/syorgun/anaconda3/envs/cancer/lib/python3.8/site-packages (from anyio->httpx>=0.23.0->dagshub) (1.3.1)\n",
      "Requirement already satisfied: exceptiongroup>=1.0.2 in /home/syorgun/anaconda3/envs/cancer/lib/python3.8/site-packages (from anyio->httpx>=0.23.0->dagshub) (1.3.0)\n",
      "Requirement already satisfied: urllib3<1.27,>=1.25.4 in /home/syorgun/anaconda3/envs/cancer/lib/python3.8/site-packages (from botocore<1.38.0,>=1.37.38->boto3->dagshub) (1.26.20)\n",
      "Requirement already satisfied: smmap<6,>=3.0.1 in /home/syorgun/anaconda3/envs/cancer/lib/python3.8/site-packages (from gitdb<5,>=4.0.1->GitPython>=3.1.29->dagshub) (5.0.2)\n",
      "Requirement already satisfied: mdurl~=0.1 in /home/syorgun/anaconda3/envs/cancer/lib/python3.8/site-packages (from markdown-it-py>=2.2.0->rich>=13.1.0->dagshub) (0.1.2)\n",
      "Requirement already satisfied: packaging>=17.0 in /home/syorgun/anaconda3/envs/cancer/lib/python3.8/site-packages (from marshmallow<4.0.0,>=3.18.0->dataclasses-json->dagshub) (23.2)\n",
      "Requirement already satisfied: annotated-types>=0.6.0 in /home/syorgun/anaconda3/envs/cancer/lib/python3.8/site-packages (from pydantic>=2.0.0->dagshub-annotation-converter>=0.1.5->dagshub) (0.7.0)\n",
      "Requirement already satisfied: pydantic-core==2.27.2 in /home/syorgun/anaconda3/envs/cancer/lib/python3.8/site-packages (from pydantic>=2.0.0->dagshub-annotation-converter>=0.1.5->dagshub) (2.27.2)\n",
      "Requirement already satisfied: charset_normalizer<4,>=2 in /home/syorgun/anaconda3/envs/cancer/lib/python3.8/site-packages (from requests<3,>=2.26->gql[requests]->dagshub) (3.4.4)\n",
      "Requirement already satisfied: mypy-extensions>=0.3.0 in /home/syorgun/anaconda3/envs/cancer/lib/python3.8/site-packages (from typing-inspect<1,>=0.4.0->dataclasses-json->dagshub) (1.1.0)\n",
      "Requirement already satisfied: multidict>=4.0 in /home/syorgun/anaconda3/envs/cancer/lib/python3.8/site-packages (from yarl<2.0,>=1.6->gql[requests]->dagshub) (6.1.0)\n",
      "Requirement already satisfied: propcache>=0.2.0 in /home/syorgun/anaconda3/envs/cancer/lib/python3.8/site-packages (from yarl<2.0,>=1.6->gql[requests]->dagshub) (0.2.0)\n",
      "Note: you may need to restart the kernel to use updated packages.\n"
     ]
    }
   ],
   "source": [
    "%pip install dagshub"
   ]
  },
  {
   "cell_type": "code",
   "execution_count": 6,
   "id": "298a9eb2",
   "metadata": {},
   "outputs": [
    {
     "data": {
      "text/html": [
       "<pre style=\"white-space:pre;overflow-x:auto;line-height:normal;font-family:Menlo,'DejaVu Sans Mono',consolas,'Courier New',monospace\">Accessing as CYBki\n",
       "</pre>\n"
      ],
      "text/plain": [
       "Accessing as CYBki\n"
      ]
     },
     "metadata": {},
     "output_type": "display_data"
    },
    {
     "data": {
      "text/html": [
       "<pre style=\"white-space:pre;overflow-x:auto;line-height:normal;font-family:Menlo,'DejaVu Sans Mono',consolas,'Courier New',monospace\">Initialized MLflow to track repo <span style=\"color: #008000; text-decoration-color: #008000\">\"CYBki/CYBki--End-to-End-Chest-Cancer-Classification-using-MLflow-DVC\"</span>\n",
       "</pre>\n"
      ],
      "text/plain": [
       "Initialized MLflow to track repo \u001b[32m\"CYBki/CYBki--End-to-End-Chest-Cancer-Classification-using-MLflow-DVC\"\u001b[0m\n"
      ]
     },
     "metadata": {},
     "output_type": "display_data"
    },
    {
     "data": {
      "text/html": [
       "<pre style=\"white-space:pre;overflow-x:auto;line-height:normal;font-family:Menlo,'DejaVu Sans Mono',consolas,'Courier New',monospace\">Repository CYBki/CYBki--End-to-End-Chest-Cancer-Classification-using-MLflow-DVC initialized!\n",
       "</pre>\n"
      ],
      "text/plain": [
       "Repository CYBki/CYBki--End-to-End-Chest-Cancer-Classification-using-MLflow-DVC initialized!\n"
      ]
     },
     "metadata": {},
     "output_type": "display_data"
    },
    {
     "name": "stderr",
     "output_type": "stream",
     "text": [
      "2025/10/26 13:01:21 INFO mlflow.tracking._tracking_service.client: 🏃 View run rumbling-bee-524 at: https://dagshub.com/CYBki/CYBki--End-to-End-Chest-Cancer-Classification-using-MLflow-DVC.mlflow/#/experiments/0/runs/867494f1012243bca90420976fe9b465.\n",
      "2025/10/26 13:01:21 INFO mlflow.tracking._tracking_service.client: 🧪 View experiment at: https://dagshub.com/CYBki/CYBki--End-to-End-Chest-Cancer-Classification-using-MLflow-DVC.mlflow/#/experiments/0.\n"
     ]
    }
   ],
   "source": [
    "import dagshub\n",
    "dagshub.init(repo_owner='CYBki', repo_name='CYBki--End-to-End-Chest-Cancer-Classification-using-MLflow-DVC', mlflow=True)\n",
    "\n",
    "import mlflow\n",
    "with mlflow.start_run():\n",
    "  mlflow.log_param('parameter name', 'value')\n",
    "  mlflow.log_metric('metric name', 1)"
   ]
  },
  {
   "cell_type": "code",
   "execution_count": 7,
   "id": "8b35f1e9",
   "metadata": {},
   "outputs": [
    {
     "name": "stderr",
     "output_type": "stream",
     "text": [
      "2025-10-26 13:01:26.085617: I tensorflow/core/util/port.cc:110] oneDNN custom operations are on. You may see slightly different numerical results due to floating-point round-off errors from different computation orders. To turn them off, set the environment variable `TF_ENABLE_ONEDNN_OPTS=0`.\n",
      "2025-10-26 13:01:26.749552: I tensorflow/tsl/cuda/cudart_stub.cc:28] Could not find cuda drivers on your machine, GPU will not be used.\n",
      "2025-10-26 13:01:31.747530: I tensorflow/tsl/cuda/cudart_stub.cc:28] Could not find cuda drivers on your machine, GPU will not be used.\n",
      "2025-10-26 13:01:31.768661: I tensorflow/core/platform/cpu_feature_guard.cc:182] This TensorFlow binary is optimized to use available CPU instructions in performance-critical operations.\n",
      "To enable the following instructions: AVX2 AVX_VNNI FMA, in other operations, rebuild TensorFlow with the appropriate compiler flags.\n",
      "2025-10-26 13:01:37.532384: W tensorflow/compiler/tf2tensorrt/utils/py_utils.cc:38] TF-TRT Warning: Could not find TensorRT\n"
     ]
    }
   ],
   "source": [
    "import tensorflow as tf\n",
    "keras = tf.keras\n",
    "\n",
    "keras.__version__ = tf.__version__\n",
    "tf.keras.__version__ = tf.__version__\n"
   ]
  },
  {
   "cell_type": "code",
   "execution_count": 8,
   "id": "e99c7e6a",
   "metadata": {},
   "outputs": [
    {
     "name": "stderr",
     "output_type": "stream",
     "text": [
      "2025-10-26 13:01:47.222326: I tensorflow/compiler/xla/stream_executor/cuda/cuda_gpu_executor.cc:995] successful NUMA node read from SysFS had negative value (-1), but there must be at least one NUMA node, so returning NUMA node zero. See more at https://github.com/torvalds/linux/blob/v6.0/Documentation/ABI/testing/sysfs-bus-pci#L344-L355\n",
      "2025-10-26 13:01:49.368587: W tensorflow/core/common_runtime/gpu/gpu_device.cc:1960] Cannot dlopen some GPU libraries. Please make sure the missing libraries mentioned above are installed properly if you would like to use GPU. Follow the guide at https://www.tensorflow.org/install/gpu for how to download and setup the required libraries for your platform.\n",
      "Skipping registering GPU devices...\n"
     ]
    }
   ],
   "source": [
    "model = tf.keras.models.load_model('artifacts/training/trained_model.h5')"
   ]
  },
  {
   "cell_type": "code",
   "execution_count": 9,
   "id": "80e8bf4e",
   "metadata": {},
   "outputs": [],
   "source": [
    "from dataclasses import dataclass\n",
    "from pathlib import Path\n",
    "\n",
    "@dataclass(frozen=True)\n",
    "class EvaluationConfig:\n",
    "    path_of_model: Path \n",
    "    training_data: Path\n",
    "    all_params: dict\n",
    "    params_image_size: list\n",
    "    params_batch_size: int"
   ]
  },
  {
   "cell_type": "code",
   "execution_count": 10,
   "id": "18a1e418",
   "metadata": {},
   "outputs": [],
   "source": [
    "from cnnClassifier.constants import *\n",
    "from cnnClassifier.utils.common import read_yaml, create_directories, save_json\n"
   ]
  },
  {
   "cell_type": "code",
   "execution_count": 11,
   "id": "495d34fd",
   "metadata": {},
   "outputs": [],
   "source": [
    "class ConfigurationManager:\n",
    "    def __init__(\n",
    "        self, \n",
    "        config_filepath=CONFIG_FILE_PATH,\n",
    "        params_filepath=PARAMS_FILE_PATH\n",
    "    ):\n",
    "        self.config = read_yaml(config_filepath)\n",
    "        self.params = read_yaml(params_filepath)\n",
    "        create_directories([self.config.artifacts_root])\n",
    "\n",
    "    def get_evaluation_config(self) -> EvaluationConfig:\n",
    "        eval_config = EvaluationConfig(\n",
    "            path_of_model=Path(\"artifacts/training/trained_model.h5\"),\n",
    "            training_data=Path(\"artifacts/data_ingestion/Chest-CT-Scan-data\"),\n",
    "            all_params=self.params,\n",
    "            params_image_size=self.params.IMAGE_SIZE,\n",
    "            params_batch_size=self.params.BATCH_SIZE\n",
    "        )\n",
    "        return eval_config\n"
   ]
  },
  {
   "cell_type": "code",
   "execution_count": 12,
   "id": "fa0f960f",
   "metadata": {},
   "outputs": [],
   "source": [
    "import tensorflow as tf\n",
    "from pathlib import Path\n",
    "import mlflow\n",
    "import mlflow.keras\n",
    "from urllib.parse import urlparse"
   ]
  },
  {
   "cell_type": "code",
   "execution_count": 13,
   "id": "bc5375ec",
   "metadata": {},
   "outputs": [],
   "source": [
    "class Evaluation:\n",
    "    def __init__(self, config: EvaluationConfig):\n",
    "        self.config = config\n",
    "\n",
    "    \n",
    "    def _valid_generator(self):\n",
    "\n",
    "        datagenerator_kwargs = dict(\n",
    "            rescale=1./255,\n",
    "            validation_split=0.30\n",
    "        )\n",
    "\n",
    "        dataflow_kwargs = dict(\n",
    "            target_size=self.config.params_image_size[:-1],\n",
    "            batch_size=self.config.params_batch_size,\n",
    "            interpolation=\"bilinear\"\n",
    "        )\n",
    "\n",
    "        valid_datagenerator = tf.keras.preprocessing.image.ImageDataGenerator(\n",
    "            **datagenerator_kwargs\n",
    "        )\n",
    "\n",
    "        self.valid_generator = valid_datagenerator.flow_from_directory(\n",
    "            directory=self.config.training_data,\n",
    "            subset=\"validation\",\n",
    "            shuffle=False,\n",
    "            **dataflow_kwargs\n",
    "        )\n",
    "\n",
    "\n",
    "    @staticmethod\n",
    "    def load_model(path: Path) -> tf.keras.Model:\n",
    "        return tf.keras.models.load_model(path)\n",
    "    \n",
    "\n",
    "    def evaluation(self):\n",
    "        self.model = self.load_model(self.config.path_of_model)\n",
    "        self._valid_generator()\n",
    "        self.score = self.model.evaluate(self.valid_generator)\n",
    "        self.save_score()\n",
    "\n",
    "    def save_score(self):\n",
    "        scores = {\"loss\": self.score[0], \"accuracy\": self.score[1]}\n",
    "        save_json(path=Path(\"scores.json\"), data=scores)\n",
    "\n",
    "    \n",
    "    def log_into_mlflow(self):\n",
    "        tracking_url_type_store = urlparse(mlflow.get_tracking_uri()).scheme\n",
    "        \n",
    "        with mlflow.start_run():\n",
    "            mlflow.log_params(self.config.all_params)\n",
    "            mlflow.log_metrics(\n",
    "                {\"loss\": self.score[0], \"accuracy\": self.score[1]}\n",
    "            )\n",
    "            \n",
    "            if tracking_url_type_store != \"file\":\n",
    "                mlflow.keras.log_model(\n",
    "                    self.model, \n",
    "                    \"model\", \n",
    "                    registered_model_name=\"VGG16Model\"\n",
    "                )\n",
    "            else:\n",
    "                mlflow.keras.log_model(self.model, \"model\")\n"
   ]
  },
  {
   "cell_type": "code",
   "execution_count": 14,
   "id": "b4b78c42",
   "metadata": {},
   "outputs": [
    {
     "name": "stdout",
     "output_type": "stream",
     "text": [
      "[2025-10-26 13:01:51,634: INFO: common: yaml file: config/config.yaml loaded successfully]\n",
      "[2025-10-26 13:01:51,665: INFO: common: yaml file: params.yaml loaded successfully]\n",
      "[2025-10-26 13:01:51,677: INFO: common: created directory at: artifacts]\n",
      "Found 102 images belonging to 2 classes.\n",
      "7/7 [==============================] - 5s 660ms/step - loss: 10.5532 - accuracy: 0.5686\n",
      "[2025-10-26 13:01:57,604: INFO: common: json file saved at: scores.json]\n"
     ]
    },
    {
     "name": "stderr",
     "output_type": "stream",
     "text": [
      "2025/10/26 13:01:58 WARNING mlflow.tensorflow: You are saving a TensorFlow Core model or Keras model without a signature. Inference with mlflow.pyfunc.spark_udf() will not work unless the model's pyfunc representation accepts pandas DataFrames as inference inputs.\n"
     ]
    },
    {
     "name": "stdout",
     "output_type": "stream",
     "text": [
      "INFO:tensorflow:Assets written to: /tmp/tmp_m0855xz/model/data/model/assets\n",
      "[2025-10-26 13:01:59,207: INFO: builder_impl: Assets written to: /tmp/tmp_m0855xz/model/data/model/assets]\n"
     ]
    },
    {
     "name": "stderr",
     "output_type": "stream",
     "text": [
      "2025/10/26 13:02:02 WARNING mlflow.models.model: Model logged without a signature and input example. Please set `input_example` parameter when logging the model to auto infer the model signature.\n",
      "Registered model 'VGG16Model' already exists. Creating a new version of this model...\n",
      "2025/10/26 13:03:03 INFO mlflow.store.model_registry.abstract_store: Waiting up to 300 seconds for model version to finish creation. Model name: VGG16Model, version 3\n",
      "Created version '3' of model 'VGG16Model'.\n",
      "2025/10/26 13:03:03 INFO mlflow.tracking._tracking_service.client: 🏃 View run glamorous-skunk-940 at: https://dagshub.com/CYBki/CYBki--End-to-End-Chest-Cancer-Classification-using-MLflow-DVC.mlflow/#/experiments/0/runs/1417ec164e6146d88c89886863db691c.\n",
      "2025/10/26 13:03:03 INFO mlflow.tracking._tracking_service.client: 🧪 View experiment at: https://dagshub.com/CYBki/CYBki--End-to-End-Chest-Cancer-Classification-using-MLflow-DVC.mlflow/#/experiments/0.\n"
     ]
    }
   ],
   "source": [
    "try:\n",
    "    config = ConfigurationManager()\n",
    "    eval_config = config.get_evaluation_config()\n",
    "    evaluation = Evaluation(eval_config)\n",
    "    evaluation.evaluation()\n",
    "    evaluation.log_into_mlflow()\n",
    "\n",
    "except Exception as e:\n",
    "   raise e\n",
    "\n"
   ]
  },
  {
   "cell_type": "code",
   "execution_count": null,
   "id": "2a79128a",
   "metadata": {},
   "outputs": [],
   "source": []
  },
  {
   "cell_type": "code",
   "execution_count": null,
   "id": "9ac901af",
   "metadata": {},
   "outputs": [],
   "source": []
  },
  {
   "cell_type": "code",
   "execution_count": null,
   "id": "a63a071d",
   "metadata": {},
   "outputs": [],
   "source": []
  }
 ],
 "metadata": {
  "kernelspec": {
   "display_name": "cancer",
   "language": "python",
   "name": "python3"
  },
  "language_info": {
   "codemirror_mode": {
    "name": "ipython",
    "version": 3
   },
   "file_extension": ".py",
   "mimetype": "text/x-python",
   "name": "python",
   "nbconvert_exporter": "python",
   "pygments_lexer": "ipython3",
   "version": "3.8.20"
  }
 },
 "nbformat": 4,
 "nbformat_minor": 5
}
