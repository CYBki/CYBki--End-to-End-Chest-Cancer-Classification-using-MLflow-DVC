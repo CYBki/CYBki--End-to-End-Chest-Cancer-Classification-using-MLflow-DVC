{
 "cells": [
  {
   "cell_type": "code",
   "execution_count": 1,
   "id": "6b4d5365",
   "metadata": {},
   "outputs": [],
   "source": [
    "import os"
   ]
  },
  {
   "cell_type": "code",
   "execution_count": 2,
   "id": "9a0330e7",
   "metadata": {},
   "outputs": [
    {
     "data": {
      "text/plain": [
       "'/home/syorgun/CYBki--End-to-End-Chest-Cancer-Classification-using-MLflow-DVC/research'"
      ]
     },
     "execution_count": 2,
     "metadata": {},
     "output_type": "execute_result"
    }
   ],
   "source": [
    "%pwd"
   ]
  },
  {
   "cell_type": "code",
   "execution_count": 3,
   "id": "4ac2c0e4",
   "metadata": {},
   "outputs": [],
   "source": [
    "os.chdir(\"../\")"
   ]
  },
  {
   "cell_type": "code",
   "execution_count": 4,
   "id": "01c423ae",
   "metadata": {},
   "outputs": [
    {
     "data": {
      "text/plain": [
       "'/home/syorgun/CYBki--End-to-End-Chest-Cancer-Classification-using-MLflow-DVC'"
      ]
     },
     "execution_count": 4,
     "metadata": {},
     "output_type": "execute_result"
    }
   ],
   "source": [
    "%pwd"
   ]
  },
  {
   "cell_type": "code",
   "execution_count": 5,
   "id": "11f1ec2f",
   "metadata": {},
   "outputs": [
    {
     "name": "stdout",
     "output_type": "stream",
     "text": [
      "Requirement already satisfied: dagshub in /home/syorgun/anaconda3/envs/cancer/lib/python3.8/site-packages (0.5.10)\n",
      "Requirement already satisfied: PyYAML>=5 in /home/syorgun/anaconda3/envs/cancer/lib/python3.8/site-packages (from dagshub) (6.0.3)\n",
      "Requirement already satisfied: appdirs>=1.4.4 in /home/syorgun/anaconda3/envs/cancer/lib/python3.8/site-packages (from dagshub) (1.4.4)\n",
      "Requirement already satisfied: click>=8.0.4 in /home/syorgun/anaconda3/envs/cancer/lib/python3.8/site-packages (from dagshub) (8.1.8)\n",
      "Requirement already satisfied: httpx>=0.23.0 in /home/syorgun/anaconda3/envs/cancer/lib/python3.8/site-packages (from dagshub) (0.28.1)\n",
      "Requirement already satisfied: GitPython>=3.1.29 in /home/syorgun/anaconda3/envs/cancer/lib/python3.8/site-packages (from dagshub) (3.1.45)\n",
      "Requirement already satisfied: rich>=13.1.0 in /home/syorgun/anaconda3/envs/cancer/lib/python3.8/site-packages (from dagshub) (14.2.0)\n",
      "Requirement already satisfied: dacite~=1.6.0 in /home/syorgun/anaconda3/envs/cancer/lib/python3.8/site-packages (from dagshub) (1.6.0)\n",
      "Requirement already satisfied: tenacity>=8.2.2 in /home/syorgun/anaconda3/envs/cancer/lib/python3.8/site-packages (from dagshub) (9.0.0)\n",
      "Requirement already satisfied: gql[requests] in /home/syorgun/anaconda3/envs/cancer/lib/python3.8/site-packages (from dagshub) (4.0.0)\n",
      "Requirement already satisfied: dataclasses-json in /home/syorgun/anaconda3/envs/cancer/lib/python3.8/site-packages (from dagshub) (0.6.7)\n",
      "Requirement already satisfied: pandas in /home/syorgun/anaconda3/envs/cancer/lib/python3.8/site-packages (from dagshub) (2.0.3)\n",
      "Requirement already satisfied: treelib>=1.6.4 in /home/syorgun/anaconda3/envs/cancer/lib/python3.8/site-packages (from dagshub) (1.8.0)\n",
      "Requirement already satisfied: pathvalidate>=3.0.0 in /home/syorgun/anaconda3/envs/cancer/lib/python3.8/site-packages (from dagshub) (3.2.1)\n",
      "Requirement already satisfied: python-dateutil in /home/syorgun/anaconda3/envs/cancer/lib/python3.8/site-packages (from dagshub) (2.9.0.post0)\n",
      "Requirement already satisfied: boto3 in /home/syorgun/anaconda3/envs/cancer/lib/python3.8/site-packages (from dagshub) (1.37.38)\n",
      "Requirement already satisfied: semver in /home/syorgun/anaconda3/envs/cancer/lib/python3.8/site-packages (from dagshub) (3.0.4)\n",
      "Requirement already satisfied: dagshub-annotation-converter>=0.1.5 in /home/syorgun/anaconda3/envs/cancer/lib/python3.8/site-packages (from dagshub) (0.1.15)\n",
      "Requirement already satisfied: lxml in /home/syorgun/anaconda3/envs/cancer/lib/python3.8/site-packages (from dagshub-annotation-converter>=0.1.5->dagshub) (6.0.2)\n",
      "Requirement already satisfied: pillow in /home/syorgun/anaconda3/envs/cancer/lib/python3.8/site-packages (from dagshub-annotation-converter>=0.1.5->dagshub) (10.4.0)\n",
      "Requirement already satisfied: pydantic>=2.0.0 in /home/syorgun/anaconda3/envs/cancer/lib/python3.8/site-packages (from dagshub-annotation-converter>=0.1.5->dagshub) (2.10.6)\n",
      "Requirement already satisfied: typing-extensions in /home/syorgun/anaconda3/envs/cancer/lib/python3.8/site-packages (from dagshub-annotation-converter>=0.1.5->dagshub) (4.13.2)\n",
      "Requirement already satisfied: gitdb<5,>=4.0.1 in /home/syorgun/anaconda3/envs/cancer/lib/python3.8/site-packages (from GitPython>=3.1.29->dagshub) (4.0.12)\n",
      "Requirement already satisfied: anyio in /home/syorgun/anaconda3/envs/cancer/lib/python3.8/site-packages (from httpx>=0.23.0->dagshub) (4.5.2)\n",
      "Requirement already satisfied: certifi in /home/syorgun/anaconda3/envs/cancer/lib/python3.8/site-packages (from httpx>=0.23.0->dagshub) (2025.10.5)\n",
      "Requirement already satisfied: httpcore==1.* in /home/syorgun/anaconda3/envs/cancer/lib/python3.8/site-packages (from httpx>=0.23.0->dagshub) (1.0.9)\n",
      "Requirement already satisfied: idna in /home/syorgun/anaconda3/envs/cancer/lib/python3.8/site-packages (from httpx>=0.23.0->dagshub) (3.11)\n",
      "Requirement already satisfied: h11>=0.16 in /home/syorgun/anaconda3/envs/cancer/lib/python3.8/site-packages (from httpcore==1.*->httpx>=0.23.0->dagshub) (0.16.0)\n",
      "Requirement already satisfied: markdown-it-py>=2.2.0 in /home/syorgun/anaconda3/envs/cancer/lib/python3.8/site-packages (from rich>=13.1.0->dagshub) (3.0.0)\n",
      "Requirement already satisfied: pygments<3.0.0,>=2.13.0 in /home/syorgun/anaconda3/envs/cancer/lib/python3.8/site-packages (from rich>=13.1.0->dagshub) (2.19.2)\n",
      "Requirement already satisfied: six>=1.13.0 in /home/syorgun/anaconda3/envs/cancer/lib/python3.8/site-packages (from treelib>=1.6.4->dagshub) (1.17.0)\n",
      "Requirement already satisfied: botocore<1.38.0,>=1.37.38 in /home/syorgun/anaconda3/envs/cancer/lib/python3.8/site-packages (from boto3->dagshub) (1.37.38)\n",
      "Requirement already satisfied: jmespath<2.0.0,>=0.7.1 in /home/syorgun/anaconda3/envs/cancer/lib/python3.8/site-packages (from boto3->dagshub) (1.0.1)\n",
      "Requirement already satisfied: s3transfer<0.12.0,>=0.11.0 in /home/syorgun/anaconda3/envs/cancer/lib/python3.8/site-packages (from boto3->dagshub) (0.11.5)\n",
      "Requirement already satisfied: marshmallow<4.0.0,>=3.18.0 in /home/syorgun/anaconda3/envs/cancer/lib/python3.8/site-packages (from dataclasses-json->dagshub) (3.22.0)\n",
      "Requirement already satisfied: typing-inspect<1,>=0.4.0 in /home/syorgun/anaconda3/envs/cancer/lib/python3.8/site-packages (from dataclasses-json->dagshub) (0.9.0)\n",
      "Requirement already satisfied: graphql-core<3.3,>=3.2 in /home/syorgun/anaconda3/envs/cancer/lib/python3.8/site-packages (from gql[requests]->dagshub) (3.2.6)\n",
      "Requirement already satisfied: yarl<2.0,>=1.6 in /home/syorgun/anaconda3/envs/cancer/lib/python3.8/site-packages (from gql[requests]->dagshub) (1.15.2)\n",
      "Requirement already satisfied: backoff<3.0,>=1.11.1 in /home/syorgun/anaconda3/envs/cancer/lib/python3.8/site-packages (from gql[requests]->dagshub) (2.2.1)\n",
      "Requirement already satisfied: requests<3,>=2.26 in /home/syorgun/anaconda3/envs/cancer/lib/python3.8/site-packages (from gql[requests]->dagshub) (2.32.4)\n",
      "Requirement already satisfied: requests_toolbelt<2,>=1.0.0 in /home/syorgun/anaconda3/envs/cancer/lib/python3.8/site-packages (from gql[requests]->dagshub) (1.0.0)\n",
      "Requirement already satisfied: pytz>=2020.1 in /home/syorgun/anaconda3/envs/cancer/lib/python3.8/site-packages (from pandas->dagshub) (2022.7.1)\n",
      "Requirement already satisfied: tzdata>=2022.1 in /home/syorgun/anaconda3/envs/cancer/lib/python3.8/site-packages (from pandas->dagshub) (2025.2)\n",
      "Requirement already satisfied: numpy>=1.20.3 in /home/syorgun/anaconda3/envs/cancer/lib/python3.8/site-packages (from pandas->dagshub) (1.23.5)\n",
      "Requirement already satisfied: sniffio>=1.1 in /home/syorgun/anaconda3/envs/cancer/lib/python3.8/site-packages (from anyio->httpx>=0.23.0->dagshub) (1.3.1)\n",
      "Requirement already satisfied: exceptiongroup>=1.0.2 in /home/syorgun/anaconda3/envs/cancer/lib/python3.8/site-packages (from anyio->httpx>=0.23.0->dagshub) (1.3.0)\n",
      "Requirement already satisfied: urllib3<1.27,>=1.25.4 in /home/syorgun/anaconda3/envs/cancer/lib/python3.8/site-packages (from botocore<1.38.0,>=1.37.38->boto3->dagshub) (1.26.20)\n",
      "Requirement already satisfied: smmap<6,>=3.0.1 in /home/syorgun/anaconda3/envs/cancer/lib/python3.8/site-packages (from gitdb<5,>=4.0.1->GitPython>=3.1.29->dagshub) (5.0.2)\n",
      "Requirement already satisfied: mdurl~=0.1 in /home/syorgun/anaconda3/envs/cancer/lib/python3.8/site-packages (from markdown-it-py>=2.2.0->rich>=13.1.0->dagshub) (0.1.2)\n",
      "Requirement already satisfied: packaging>=17.0 in /home/syorgun/anaconda3/envs/cancer/lib/python3.8/site-packages (from marshmallow<4.0.0,>=3.18.0->dataclasses-json->dagshub) (23.2)\n",
      "Requirement already satisfied: annotated-types>=0.6.0 in /home/syorgun/anaconda3/envs/cancer/lib/python3.8/site-packages (from pydantic>=2.0.0->dagshub-annotation-converter>=0.1.5->dagshub) (0.7.0)\n",
      "Requirement already satisfied: pydantic-core==2.27.2 in /home/syorgun/anaconda3/envs/cancer/lib/python3.8/site-packages (from pydantic>=2.0.0->dagshub-annotation-converter>=0.1.5->dagshub) (2.27.2)\n",
      "Requirement already satisfied: charset_normalizer<4,>=2 in /home/syorgun/anaconda3/envs/cancer/lib/python3.8/site-packages (from requests<3,>=2.26->gql[requests]->dagshub) (3.4.4)\n",
      "Requirement already satisfied: mypy-extensions>=0.3.0 in /home/syorgun/anaconda3/envs/cancer/lib/python3.8/site-packages (from typing-inspect<1,>=0.4.0->dataclasses-json->dagshub) (1.1.0)\n",
      "Requirement already satisfied: multidict>=4.0 in /home/syorgun/anaconda3/envs/cancer/lib/python3.8/site-packages (from yarl<2.0,>=1.6->gql[requests]->dagshub) (6.1.0)\n",
      "Requirement already satisfied: propcache>=0.2.0 in /home/syorgun/anaconda3/envs/cancer/lib/python3.8/site-packages (from yarl<2.0,>=1.6->gql[requests]->dagshub) (0.2.0)\n",
      "Note: you may need to restart the kernel to use updated packages.\n"
     ]
    }
   ],
   "source": [
    "%pip install dagshub"
   ]
  },
  {
   "cell_type": "code",
   "execution_count": 6,
   "id": "298a9eb2",
   "metadata": {},
   "outputs": [
    {
     "data": {
      "text/html": [
       "<pre style=\"white-space:pre;overflow-x:auto;line-height:normal;font-family:Menlo,'DejaVu Sans Mono',consolas,'Courier New',monospace\">Accessing as CYBki\n",
       "</pre>\n"
      ],
      "text/plain": [
       "Accessing as CYBki\n"
      ]
     },
     "metadata": {},
     "output_type": "display_data"
    },
    {
     "data": {
      "text/html": [
       "<pre style=\"white-space:pre;overflow-x:auto;line-height:normal;font-family:Menlo,'DejaVu Sans Mono',consolas,'Courier New',monospace\">Initialized MLflow to track repo <span style=\"color: #008000; text-decoration-color: #008000\">\"CYBki/CYBki--End-to-End-Chest-Cancer-Classification-using-MLflow-DVC\"</span>\n",
       "</pre>\n"
      ],
      "text/plain": [
       "Initialized MLflow to track repo \u001b[32m\"CYBki/CYBki--End-to-End-Chest-Cancer-Classification-using-MLflow-DVC\"\u001b[0m\n"
      ]
     },
     "metadata": {},
     "output_type": "display_data"
    },
    {
     "data": {
      "text/html": [
       "<pre style=\"white-space:pre;overflow-x:auto;line-height:normal;font-family:Menlo,'DejaVu Sans Mono',consolas,'Courier New',monospace\">Repository CYBki/CYBki--End-to-End-Chest-Cancer-Classification-using-MLflow-DVC initialized!\n",
       "</pre>\n"
      ],
      "text/plain": [
       "Repository CYBki/CYBki--End-to-End-Chest-Cancer-Classification-using-MLflow-DVC initialized!\n"
      ]
     },
     "metadata": {},
     "output_type": "display_data"
    }
   ],
   "source": [
    "import dagshub\n",
    "dagshub.init(repo_owner='CYBki', repo_name='CYBki--End-to-End-Chest-Cancer-Classification-using-MLflow-DVC', mlflow=True)\n",
    "\n",
    "import mlflow\n",
    "with mlflow.start_run():\n",
    "  mlflow.log_param('parameter name', 'value')\n",
    "  mlflow.log_metric('metric name', 1)"
   ]
  },
  {
   "cell_type": "code",
   "execution_count": 7,
   "id": "8b35f1e9",
   "metadata": {},
   "outputs": [
    {
     "name": "stderr",
     "output_type": "stream",
     "text": [
      "2025-10-25 13:48:35.712289: I tensorflow/core/util/port.cc:110] oneDNN custom operations are on. You may see slightly different numerical results due to floating-point round-off errors from different computation orders. To turn them off, set the environment variable `TF_ENABLE_ONEDNN_OPTS=0`.\n",
      "2025-10-25 13:48:35.713935: I tensorflow/tsl/cuda/cudart_stub.cc:28] Could not find cuda drivers on your machine, GPU will not be used.\n",
      "2025-10-25 13:48:35.743198: I tensorflow/tsl/cuda/cudart_stub.cc:28] Could not find cuda drivers on your machine, GPU will not be used.\n",
      "2025-10-25 13:48:35.743863: I tensorflow/core/platform/cpu_feature_guard.cc:182] This TensorFlow binary is optimized to use available CPU instructions in performance-critical operations.\n",
      "To enable the following instructions: AVX2 AVX_VNNI FMA, in other operations, rebuild TensorFlow with the appropriate compiler flags.\n",
      "2025-10-25 13:48:36.204927: W tensorflow/compiler/tf2tensorrt/utils/py_utils.cc:38] TF-TRT Warning: Could not find TensorRT\n"
     ]
    }
   ],
   "source": [
    "import tensorflow as tf\n",
    "from tensorflow import keras\n",
    "\n",
    "keras.__version__ = tf.__version__\n"
   ]
  },
  {
   "cell_type": "code",
   "execution_count": 8,
   "id": "e99c7e6a",
   "metadata": {},
   "outputs": [
    {
     "name": "stderr",
     "output_type": "stream",
     "text": [
      "2025-10-25 13:48:38.223480: E tensorflow/compiler/xla/stream_executor/cuda/cuda_driver.cc:268] failed call to cuInit: CUDA_ERROR_UNKNOWN: unknown error\n",
      "2025-10-25 13:48:38.223503: I tensorflow/compiler/xla/stream_executor/cuda/cuda_diagnostics.cc:168] retrieving CUDA diagnostic information for host: syorgun-EXCALIBUR-G870\n",
      "2025-10-25 13:48:38.223507: I tensorflow/compiler/xla/stream_executor/cuda/cuda_diagnostics.cc:175] hostname: syorgun-EXCALIBUR-G870\n",
      "2025-10-25 13:48:38.223744: I tensorflow/compiler/xla/stream_executor/cuda/cuda_diagnostics.cc:199] libcuda reported version is: 550.163.1\n",
      "2025-10-25 13:48:38.223757: I tensorflow/compiler/xla/stream_executor/cuda/cuda_diagnostics.cc:203] kernel reported version is: 550.163.1\n",
      "2025-10-25 13:48:38.223760: I tensorflow/compiler/xla/stream_executor/cuda/cuda_diagnostics.cc:309] kernel version seems to match DSO: 550.163.1\n"
     ]
    }
   ],
   "source": [
    "model = tf.keras.models.load_model('artifacts/training/trained_model.h5')"
   ]
  },
  {
   "cell_type": "code",
   "execution_count": 9,
   "id": "80e8bf4e",
   "metadata": {},
   "outputs": [],
   "source": [
    "from dataclasses import dataclass\n",
    "from pathlib import Path\n",
    "\n",
    "@dataclass(frozen=True)\n",
    "class EvaluationConfig:\n",
    "    path_of_model: Path \n",
    "    training_data: Path\n",
    "    all_params: dict\n",
    "    params_image_size: list\n",
    "    params_batch_size: int"
   ]
  },
  {
   "cell_type": "code",
   "execution_count": 10,
   "id": "18a1e418",
   "metadata": {},
   "outputs": [],
   "source": [
    "from cnnClassifier.constants import *\n",
    "from cnnClassifier.utils.common import read_yaml, create_directories, save_json\n"
   ]
  },
  {
   "cell_type": "code",
   "execution_count": 11,
   "id": "495d34fd",
   "metadata": {},
   "outputs": [],
   "source": [
    "class ConfigurationManager:\n",
    "    def __init__(\n",
    "        self, \n",
    "        config_filepath=CONFIG_FILE_PATH,\n",
    "        params_filepath=PARAMS_FILE_PATH\n",
    "    ):\n",
    "        self.config = read_yaml(config_filepath)\n",
    "        self.params = read_yaml(params_filepath)\n",
    "        create_directories([self.config.artifacts_root])\n",
    "\n",
    "    def get_evaluation_config(self) -> EvaluationConfig:\n",
    "        eval_config = EvaluationConfig(\n",
    "            path_of_model=Path(\"artifacts/training/trained_model.h5\"),\n",
    "            training_data=Path(\"artifacts/data_ingestion/Chest-CT-Scan-data\"),\n",
    "            all_params=self.params,\n",
    "            params_image_size=self.params.IMAGE_SIZE,\n",
    "            params_batch_size=self.params.BATCH_SIZE\n",
    "        )\n",
    "        return eval_config\n"
   ]
  },
  {
   "cell_type": "code",
   "execution_count": 12,
   "id": "fa0f960f",
   "metadata": {},
   "outputs": [],
   "source": [
    "import tensorflow as tf\n",
    "from pathlib import Path\n",
    "import mlflow\n",
    "import mlflow.keras\n",
    "from urllib.parse import urlparse"
   ]
  },
  {
   "cell_type": "code",
   "execution_count": 13,
   "id": "bc5375ec",
   "metadata": {},
   "outputs": [],
   "source": [
    "class Evaluation:\n",
    "    def __init__(self, config: EvaluationConfig):\n",
    "        self.config = config\n",
    "\n",
    "    \n",
    "    def _valid_generator(self):\n",
    "\n",
    "        datagenerator_kwargs = dict(\n",
    "            rescale=1./255,\n",
    "            validation_split=0.30\n",
    "        )\n",
    "\n",
    "        dataflow_kwargs = dict(\n",
    "            target_size=self.config.params_image_size[:-1],\n",
    "            batch_size=self.config.params_batch_size,\n",
    "            interpolation=\"bilinear\"\n",
    "        )\n",
    "\n",
    "        valid_datagenerator = tf.keras.preprocessing.image.ImageDataGenerator(\n",
    "            **datagenerator_kwargs\n",
    "        )\n",
    "\n",
    "        self.valid_generator = valid_datagenerator.flow_from_directory(\n",
    "            directory=self.config.training_data,\n",
    "            subset=\"validation\",\n",
    "            shuffle=False,\n",
    "            **dataflow_kwargs\n",
    "        )\n",
    "\n",
    "\n",
    "    @staticmethod\n",
    "    def load_model(path: Path) -> tf.keras.Model:\n",
    "        return tf.keras.models.load_model(path)\n",
    "    \n",
    "\n",
    "    def evaluation(self):\n",
    "        self.model = self.load_model(self.config.path_of_model)\n",
    "        self._valid_generator()\n",
    "        self.score = self.model.evaluate(self.valid_generator)\n",
    "        self.save_score()\n",
    "\n",
    "    def save_score(self):\n",
    "        scores = {\"loss\": self.score[0], \"accuracy\": self.score[1]}\n",
    "        save_json(path=Path(\"scores.json\"), data=scores)\n",
    "\n",
    "    \n",
    "    def log_into_mlflow(self):\n",
    "        tracking_url_type_store = urlparse(mlflow.get_tracking_uri()).scheme\n",
    "        \n",
    "        with mlflow.start_run():\n",
    "            mlflow.log_params(self.config.all_params)\n",
    "            mlflow.log_metrics(\n",
    "                {\"loss\": self.score[0], \"accuracy\": self.score[1]}\n",
    "            )\n",
    "            \n",
    "            if tracking_url_type_store != \"file\":\n",
    "                mlflow.keras.log_model(\n",
    "                    self.model, \n",
    "                    \"model\", \n",
    "                    registered_model_name=\"VGG16Model\"\n",
    "                )\n",
    "            else:\n",
    "                mlflow.keras.log_model(self.model, \"model\")\n"
   ]
  },
  {
   "cell_type": "code",
   "execution_count": 14,
   "id": "b4b78c42",
   "metadata": {},
   "outputs": [
    {
     "name": "stdout",
     "output_type": "stream",
     "text": [
      "[2025-10-25 13:48:38,562: INFO: common: yaml file: config/config.yaml loaded successfully]\n",
      "[2025-10-25 13:48:38,564: INFO: common: yaml file: params.yaml loaded successfully]\n",
      "[2025-10-25 13:48:38,565: INFO: common: created directory at: artifacts]\n",
      "Found 102 images belonging to 2 classes.\n",
      "7/7 [==============================] - 5s 717ms/step - loss: 10.5532 - accuracy: 0.5686\n",
      "[2025-10-25 13:48:44,104: INFO: common: json file saved at: scores.json]\n"
     ]
    },
    {
     "name": "stderr",
     "output_type": "stream",
     "text": [
      "2025/10/25 13:48:45 WARNING mlflow.tensorflow: You are saving a TensorFlow Core model or Keras model without a signature. Inference with mlflow.pyfunc.spark_udf() will not work unless the model's pyfunc representation accepts pandas DataFrames as inference inputs.\n"
     ]
    },
    {
     "name": "stdout",
     "output_type": "stream",
     "text": [
      "INFO:tensorflow:Assets written to: /tmp/tmpssak2qrh/model/data/model/assets\n",
      "[2025-10-25 13:48:45,707: INFO: builder_impl: Assets written to: /tmp/tmpssak2qrh/model/data/model/assets]\n"
     ]
    },
    {
     "ename": "AttributeError",
     "evalue": "module 'tensorflow.keras' has no attribute '__version__'",
     "output_type": "error",
     "traceback": [
      "\u001b[0;31m---------------------------------------------------------------------------\u001b[0m",
      "\u001b[0;31mAttributeError\u001b[0m                            Traceback (most recent call last)",
      "Cell \u001b[0;32mIn[14], line 9\u001b[0m\n\u001b[1;32m      6\u001b[0m     evaluation\u001b[38;5;241m.\u001b[39mlog_into_mlflow()\n\u001b[1;32m      8\u001b[0m \u001b[38;5;28;01mexcept\u001b[39;00m \u001b[38;5;167;01mException\u001b[39;00m \u001b[38;5;28;01mas\u001b[39;00m e:\n\u001b[0;32m----> 9\u001b[0m    \u001b[38;5;28;01mraise\u001b[39;00m e\n",
      "Cell \u001b[0;32mIn[14], line 6\u001b[0m\n\u001b[1;32m      4\u001b[0m     evaluation \u001b[38;5;241m=\u001b[39m Evaluation(eval_config)\n\u001b[1;32m      5\u001b[0m     evaluation\u001b[38;5;241m.\u001b[39mevaluation()\n\u001b[0;32m----> 6\u001b[0m     \u001b[43mevaluation\u001b[49m\u001b[38;5;241;43m.\u001b[39;49m\u001b[43mlog_into_mlflow\u001b[49m\u001b[43m(\u001b[49m\u001b[43m)\u001b[49m\n\u001b[1;32m      8\u001b[0m \u001b[38;5;28;01mexcept\u001b[39;00m \u001b[38;5;167;01mException\u001b[39;00m \u001b[38;5;28;01mas\u001b[39;00m e:\n\u001b[1;32m      9\u001b[0m    \u001b[38;5;28;01mraise\u001b[39;00m e\n",
      "Cell \u001b[0;32mIn[13], line 57\u001b[0m, in \u001b[0;36mEvaluation.log_into_mlflow\u001b[0;34m(self)\u001b[0m\n\u001b[1;32m     52\u001b[0m mlflow\u001b[38;5;241m.\u001b[39mlog_metrics(\n\u001b[1;32m     53\u001b[0m     {\u001b[38;5;124m\"\u001b[39m\u001b[38;5;124mloss\u001b[39m\u001b[38;5;124m\"\u001b[39m: \u001b[38;5;28mself\u001b[39m\u001b[38;5;241m.\u001b[39mscore[\u001b[38;5;241m0\u001b[39m], \u001b[38;5;124m\"\u001b[39m\u001b[38;5;124maccuracy\u001b[39m\u001b[38;5;124m\"\u001b[39m: \u001b[38;5;28mself\u001b[39m\u001b[38;5;241m.\u001b[39mscore[\u001b[38;5;241m1\u001b[39m]}\n\u001b[1;32m     54\u001b[0m )\n\u001b[1;32m     56\u001b[0m \u001b[38;5;28;01mif\u001b[39;00m tracking_url_type_store \u001b[38;5;241m!=\u001b[39m \u001b[38;5;124m\"\u001b[39m\u001b[38;5;124mfile\u001b[39m\u001b[38;5;124m\"\u001b[39m:\n\u001b[0;32m---> 57\u001b[0m     \u001b[43mmlflow\u001b[49m\u001b[38;5;241;43m.\u001b[39;49m\u001b[43mkeras\u001b[49m\u001b[38;5;241;43m.\u001b[39;49m\u001b[43mlog_model\u001b[49m\u001b[43m(\u001b[49m\n\u001b[1;32m     58\u001b[0m \u001b[43m        \u001b[49m\u001b[38;5;28;43mself\u001b[39;49m\u001b[38;5;241;43m.\u001b[39;49m\u001b[43mmodel\u001b[49m\u001b[43m,\u001b[49m\u001b[43m \u001b[49m\n\u001b[1;32m     59\u001b[0m \u001b[43m        \u001b[49m\u001b[38;5;124;43m\"\u001b[39;49m\u001b[38;5;124;43mmodel\u001b[39;49m\u001b[38;5;124;43m\"\u001b[39;49m\u001b[43m,\u001b[49m\u001b[43m \u001b[49m\n\u001b[1;32m     60\u001b[0m \u001b[43m        \u001b[49m\u001b[43mregistered_model_name\u001b[49m\u001b[38;5;241;43m=\u001b[39;49m\u001b[38;5;124;43m\"\u001b[39;49m\u001b[38;5;124;43mVGG16Model\u001b[39;49m\u001b[38;5;124;43m\"\u001b[39;49m\n\u001b[1;32m     61\u001b[0m \u001b[43m    \u001b[49m\u001b[43m)\u001b[49m\n\u001b[1;32m     62\u001b[0m \u001b[38;5;28;01melse\u001b[39;00m:\n\u001b[1;32m     63\u001b[0m     mlflow\u001b[38;5;241m.\u001b[39mkeras\u001b[38;5;241m.\u001b[39mlog_model(\u001b[38;5;28mself\u001b[39m\u001b[38;5;241m.\u001b[39mmodel, \u001b[38;5;124m\"\u001b[39m\u001b[38;5;124mmodel\u001b[39m\u001b[38;5;124m\"\u001b[39m)\n",
      "File \u001b[0;32m~/anaconda3/envs/cancer/lib/python3.8/site-packages/mlflow/tensorflow/__init__.py:222\u001b[0m, in \u001b[0;36mlog_model\u001b[0;34m(model, artifact_path, custom_objects, conda_env, code_paths, signature, input_example, registered_model_name, await_registration_for, pip_requirements, extra_pip_requirements, saved_model_kwargs, keras_model_kwargs, metadata)\u001b[0m\n\u001b[1;32m    124\u001b[0m \u001b[38;5;129m@format_docstring\u001b[39m(LOG_MODEL_PARAM_DOCS\u001b[38;5;241m.\u001b[39mformat(package_name\u001b[38;5;241m=\u001b[39mFLAVOR_NAME))\n\u001b[1;32m    125\u001b[0m \u001b[38;5;28;01mdef\u001b[39;00m\u001b[38;5;250m \u001b[39m\u001b[38;5;21mlog_model\u001b[39m(\n\u001b[1;32m    126\u001b[0m     model,\n\u001b[0;32m   (...)\u001b[0m\n\u001b[1;32m    139\u001b[0m     metadata\u001b[38;5;241m=\u001b[39m\u001b[38;5;28;01mNone\u001b[39;00m,\n\u001b[1;32m    140\u001b[0m ):\n\u001b[1;32m    141\u001b[0m \u001b[38;5;250m    \u001b[39m\u001b[38;5;124;03m\"\"\"\u001b[39;00m\n\u001b[1;32m    142\u001b[0m \u001b[38;5;124;03m    Log a TF2 core model (inheriting tf.Module) or a Keras model in MLflow Model format.\u001b[39;00m\n\u001b[1;32m    143\u001b[0m \n\u001b[0;32m   (...)\u001b[0m\n\u001b[1;32m    219\u001b[0m \u001b[38;5;124;03m             metadata of the logged model.\u001b[39;00m\n\u001b[1;32m    220\u001b[0m \u001b[38;5;124;03m    \"\"\"\u001b[39;00m\n\u001b[0;32m--> 222\u001b[0m     \u001b[38;5;28;01mreturn\u001b[39;00m \u001b[43mModel\u001b[49m\u001b[38;5;241;43m.\u001b[39;49m\u001b[43mlog\u001b[49m\u001b[43m(\u001b[49m\n\u001b[1;32m    223\u001b[0m \u001b[43m        \u001b[49m\u001b[43martifact_path\u001b[49m\u001b[38;5;241;43m=\u001b[39;49m\u001b[43martifact_path\u001b[49m\u001b[43m,\u001b[49m\n\u001b[1;32m    224\u001b[0m \u001b[43m        \u001b[49m\u001b[43mflavor\u001b[49m\u001b[38;5;241;43m=\u001b[39;49m\u001b[43mmlflow\u001b[49m\u001b[38;5;241;43m.\u001b[39;49m\u001b[43mtensorflow\u001b[49m\u001b[43m,\u001b[49m\n\u001b[1;32m    225\u001b[0m \u001b[43m        \u001b[49m\u001b[43mmodel\u001b[49m\u001b[38;5;241;43m=\u001b[39;49m\u001b[43mmodel\u001b[49m\u001b[43m,\u001b[49m\n\u001b[1;32m    226\u001b[0m \u001b[43m        \u001b[49m\u001b[43mconda_env\u001b[49m\u001b[38;5;241;43m=\u001b[39;49m\u001b[43mconda_env\u001b[49m\u001b[43m,\u001b[49m\n\u001b[1;32m    227\u001b[0m \u001b[43m        \u001b[49m\u001b[43mcode_paths\u001b[49m\u001b[38;5;241;43m=\u001b[39;49m\u001b[43mcode_paths\u001b[49m\u001b[43m,\u001b[49m\n\u001b[1;32m    228\u001b[0m \u001b[43m        \u001b[49m\u001b[43mcustom_objects\u001b[49m\u001b[38;5;241;43m=\u001b[39;49m\u001b[43mcustom_objects\u001b[49m\u001b[43m,\u001b[49m\n\u001b[1;32m    229\u001b[0m \u001b[43m        \u001b[49m\u001b[43mregistered_model_name\u001b[49m\u001b[38;5;241;43m=\u001b[39;49m\u001b[43mregistered_model_name\u001b[49m\u001b[43m,\u001b[49m\n\u001b[1;32m    230\u001b[0m \u001b[43m        \u001b[49m\u001b[43msignature\u001b[49m\u001b[38;5;241;43m=\u001b[39;49m\u001b[43msignature\u001b[49m\u001b[43m,\u001b[49m\n\u001b[1;32m    231\u001b[0m \u001b[43m        \u001b[49m\u001b[43minput_example\u001b[49m\u001b[38;5;241;43m=\u001b[39;49m\u001b[43minput_example\u001b[49m\u001b[43m,\u001b[49m\n\u001b[1;32m    232\u001b[0m \u001b[43m        \u001b[49m\u001b[43mawait_registration_for\u001b[49m\u001b[38;5;241;43m=\u001b[39;49m\u001b[43mawait_registration_for\u001b[49m\u001b[43m,\u001b[49m\n\u001b[1;32m    233\u001b[0m \u001b[43m        \u001b[49m\u001b[43mpip_requirements\u001b[49m\u001b[38;5;241;43m=\u001b[39;49m\u001b[43mpip_requirements\u001b[49m\u001b[43m,\u001b[49m\n\u001b[1;32m    234\u001b[0m \u001b[43m        \u001b[49m\u001b[43mextra_pip_requirements\u001b[49m\u001b[38;5;241;43m=\u001b[39;49m\u001b[43mextra_pip_requirements\u001b[49m\u001b[43m,\u001b[49m\n\u001b[1;32m    235\u001b[0m \u001b[43m        \u001b[49m\u001b[43msaved_model_kwargs\u001b[49m\u001b[38;5;241;43m=\u001b[39;49m\u001b[43msaved_model_kwargs\u001b[49m\u001b[43m,\u001b[49m\n\u001b[1;32m    236\u001b[0m \u001b[43m        \u001b[49m\u001b[43mkeras_model_kwargs\u001b[49m\u001b[38;5;241;43m=\u001b[39;49m\u001b[43mkeras_model_kwargs\u001b[49m\u001b[43m,\u001b[49m\n\u001b[1;32m    237\u001b[0m \u001b[43m        \u001b[49m\u001b[43mmetadata\u001b[49m\u001b[38;5;241;43m=\u001b[39;49m\u001b[43mmetadata\u001b[49m\u001b[43m,\u001b[49m\n\u001b[1;32m    238\u001b[0m \u001b[43m    \u001b[49m\u001b[43m)\u001b[49m\n",
      "File \u001b[0;32m~/anaconda3/envs/cancer/lib/python3.8/site-packages/mlflow/models/model.py:551\u001b[0m, in \u001b[0;36mModel.log\u001b[0;34m(cls, artifact_path, flavor, registered_model_name, await_registration_for, metadata, **kwargs)\u001b[0m\n\u001b[1;32m    549\u001b[0m run_id \u001b[38;5;241m=\u001b[39m mlflow\u001b[38;5;241m.\u001b[39mtracking\u001b[38;5;241m.\u001b[39mfluent\u001b[38;5;241m.\u001b[39m_get_or_start_run()\u001b[38;5;241m.\u001b[39minfo\u001b[38;5;241m.\u001b[39mrun_id\n\u001b[1;32m    550\u001b[0m mlflow_model \u001b[38;5;241m=\u001b[39m \u001b[38;5;28mcls\u001b[39m(artifact_path\u001b[38;5;241m=\u001b[39martifact_path, run_id\u001b[38;5;241m=\u001b[39mrun_id, metadata\u001b[38;5;241m=\u001b[39mmetadata)\n\u001b[0;32m--> 551\u001b[0m \u001b[43mflavor\u001b[49m\u001b[38;5;241;43m.\u001b[39;49m\u001b[43msave_model\u001b[49m\u001b[43m(\u001b[49m\u001b[43mpath\u001b[49m\u001b[38;5;241;43m=\u001b[39;49m\u001b[43mlocal_path\u001b[49m\u001b[43m,\u001b[49m\u001b[43m \u001b[49m\u001b[43mmlflow_model\u001b[49m\u001b[38;5;241;43m=\u001b[39;49m\u001b[43mmlflow_model\u001b[49m\u001b[43m,\u001b[49m\u001b[43m \u001b[49m\u001b[38;5;241;43m*\u001b[39;49m\u001b[38;5;241;43m*\u001b[39;49m\u001b[43mkwargs\u001b[49m\u001b[43m)\u001b[49m\n\u001b[1;32m    552\u001b[0m mlflow\u001b[38;5;241m.\u001b[39mtracking\u001b[38;5;241m.\u001b[39mfluent\u001b[38;5;241m.\u001b[39mlog_artifacts(local_path, mlflow_model\u001b[38;5;241m.\u001b[39martifact_path)\n\u001b[1;32m    553\u001b[0m \u001b[38;5;28;01mtry\u001b[39;00m:\n",
      "File \u001b[0;32m~/anaconda3/envs/cancer/lib/python3.8/site-packages/mlflow/tensorflow/__init__.py:445\u001b[0m, in \u001b[0;36msave_model\u001b[0;34m(model, path, conda_env, code_paths, mlflow_model, custom_objects, signature, input_example, pip_requirements, extra_pip_requirements, saved_model_kwargs, keras_model_kwargs, metadata)\u001b[0m\n\u001b[1;32m    437\u001b[0m         model\u001b[38;5;241m.\u001b[39msave(model_path, \u001b[38;5;241m*\u001b[39m\u001b[38;5;241m*\u001b[39mkeras_model_kwargs)\n\u001b[1;32m    439\u001b[0m     pyfunc_options \u001b[38;5;241m=\u001b[39m {\n\u001b[1;32m    440\u001b[0m         \u001b[38;5;124m\"\u001b[39m\u001b[38;5;124mdata\u001b[39m\u001b[38;5;124m\"\u001b[39m: data_subpath,\n\u001b[1;32m    441\u001b[0m     }\n\u001b[1;32m    442\u001b[0m     flavor_options \u001b[38;5;241m=\u001b[39m {\n\u001b[1;32m    443\u001b[0m         \u001b[38;5;241m*\u001b[39m\u001b[38;5;241m*\u001b[39mpyfunc_options,\n\u001b[1;32m    444\u001b[0m         \u001b[38;5;124m\"\u001b[39m\u001b[38;5;124mmodel_type\u001b[39m\u001b[38;5;124m\"\u001b[39m: _MODEL_TYPE_KERAS,\n\u001b[0;32m--> 445\u001b[0m         \u001b[38;5;124m\"\u001b[39m\u001b[38;5;124mkeras_version\u001b[39m\u001b[38;5;124m\"\u001b[39m: \u001b[43mkeras_module\u001b[49m\u001b[38;5;241;43m.\u001b[39;49m\u001b[43m__version__\u001b[49m,\n\u001b[1;32m    446\u001b[0m         \u001b[38;5;124m\"\u001b[39m\u001b[38;5;124msave_format\u001b[39m\u001b[38;5;124m\"\u001b[39m: save_format,\n\u001b[1;32m    447\u001b[0m     }\n\u001b[1;32m    448\u001b[0m \u001b[38;5;28;01melif\u001b[39;00m \u001b[38;5;28misinstance\u001b[39m(model, tensorflow\u001b[38;5;241m.\u001b[39mModule):\n\u001b[1;32m    449\u001b[0m     saved_model_kwargs \u001b[38;5;241m=\u001b[39m saved_model_kwargs \u001b[38;5;129;01mor\u001b[39;00m {}\n",
      "\u001b[0;31mAttributeError\u001b[0m: module 'tensorflow.keras' has no attribute '__version__'"
     ]
    }
   ],
   "source": [
    "try:\n",
    "    config = ConfigurationManager()\n",
    "    eval_config = config.get_evaluation_config()\n",
    "    evaluation = Evaluation(eval_config)\n",
    "    evaluation.evaluation()\n",
    "    evaluation.log_into_mlflow()\n",
    "\n",
    "except Exception as e:\n",
    "   raise e\n",
    "\n"
   ]
  },
  {
   "cell_type": "code",
   "execution_count": null,
   "id": "2a79128a",
   "metadata": {},
   "outputs": [],
   "source": []
  },
  {
   "cell_type": "code",
   "execution_count": null,
   "id": "9ac901af",
   "metadata": {},
   "outputs": [],
   "source": []
  },
  {
   "cell_type": "code",
   "execution_count": null,
   "id": "a63a071d",
   "metadata": {},
   "outputs": [],
   "source": []
  }
 ],
 "metadata": {
  "kernelspec": {
   "display_name": "cancer",
   "language": "python",
   "name": "python3"
  },
  "language_info": {
   "codemirror_mode": {
    "name": "ipython",
    "version": 3
   },
   "file_extension": ".py",
   "mimetype": "text/x-python",
   "name": "python",
   "nbconvert_exporter": "python",
   "pygments_lexer": "ipython3",
   "version": "3.8.20"
  }
 },
 "nbformat": 4,
 "nbformat_minor": 5
}
