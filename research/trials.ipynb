{
 "cells": [
  {
   "cell_type": "markdown",
   "id": "f756fb7e",
   "metadata": {},
   "source": [
    "## Download data from gdrive "
   ]
  },
  {
   "cell_type": "code",
   "execution_count": 2,
   "id": "854a2a46",
   "metadata": {},
   "outputs": [],
   "source": [
    "import gdown"
   ]
  },
  {
   "cell_type": "code",
   "execution_count": 3,
   "id": "ea344bab",
   "metadata": {},
   "outputs": [],
   "source": [
    "url = \"https://drive.google.com/file/d/1vr_NGPMa7Qb8HSvYuJITbubYZAmo4kwS/view?usp=sharing\""
   ]
  },
  {
   "cell_type": "code",
   "execution_count": 7,
   "id": "69cb12cc",
   "metadata": {},
   "outputs": [
    {
     "data": {
      "text/plain": [
       "'1vr_NGPMa7Qb8HSvYuJITbubYZAmo4kwS'"
      ]
     },
     "execution_count": 7,
     "metadata": {},
     "output_type": "execute_result"
    }
   ],
   "source": [
    "file_id = url.split(\"/\")[-2]\n",
    "file_id"
   ]
  },
  {
   "cell_type": "code",
   "execution_count": 11,
   "id": "6e7fa90b",
   "metadata": {},
   "outputs": [
    {
     "name": "stderr",
     "output_type": "stream",
     "text": [
      "Downloading...\n",
      "From (original): https://drive.google.com/uc?id=1vr_NGPMa7Qb8HSvYuJITbubYZAmo4kwS\n",
      "From (redirected): https://drive.google.com/uc?id=1vr_NGPMa7Qb8HSvYuJITbubYZAmo4kwS&confirm=t&uuid=c2e534a7-b5ca-422e-8cb0-709b6968ebaa\n",
      "To: /home/syorgun/CYBki--End-to-End-Chest-Cancer-Classification-using-MLflow-DVC/research/Chest-CT-Scan-data.zip\n",
      "100%|██████████| 738M/738M [01:02<00:00, 11.9MB/s]\n"
     ]
    },
    {
     "data": {
      "text/plain": [
       "'Chest-CT-Scan-data.zip'"
      ]
     },
     "execution_count": 11,
     "metadata": {},
     "output_type": "execute_result"
    }
   ],
   "source": [
    "file_id = \"1vr_NGPMa7Qb8HSvYuJITbubYZAmo4kwS\"\n",
    "gdown.download(id=file_id, output=\"Chest-CT-Scan-data.zip\", quiet=False)\n"
   ]
  },
  {
   "cell_type": "code",
   "execution_count": null,
   "id": "42c69e34",
   "metadata": {},
   "outputs": [],
   "source": []
  }
 ],
 "metadata": {
  "kernelspec": {
   "display_name": "cancer",
   "language": "python",
   "name": "python3"
  },
  "language_info": {
   "codemirror_mode": {
    "name": "ipython",
    "version": 3
   },
   "file_extension": ".py",
   "mimetype": "text/x-python",
   "name": "python",
   "nbconvert_exporter": "python",
   "pygments_lexer": "ipython3",
   "version": "3.8.20"
  }
 },
 "nbformat": 4,
 "nbformat_minor": 5
}
